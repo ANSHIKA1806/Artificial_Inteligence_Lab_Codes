{
  "nbformat": 4,
  "nbformat_minor": 0,
  "metadata": {
    "colab": {
      "name": "River_Crossing.ipynb",
      "provenance": [],
      "collapsed_sections": []
    },
    "kernelspec": {
      "name": "python3",
      "display_name": "Python 3"
    },
    "language_info": {
      "name": "python"
    },
    "accelerator": "GPU"
  },
  "cells": [
    {
      "cell_type": "code",
      "execution_count": null,
      "metadata": {
        "colab": {
          "base_uri": "https://localhost:8080/"
        },
        "id": "5z3Tw7_xJMKu",
        "outputId": "a020b050-ef20-46ac-e0a7-8c5ffc28fea7"
      },
      "outputs": [
        {
          "output_type": "stream",
          "name": "stdout",
          "text": [
            "Before Process\n",
            "Element in the Left Side Bank  ['M', 'L', 'G', 'C']\n",
            "Element in the Right Side Bank  []\n",
            "L   G   C  Select any one from the list\n"
          ]
        }
      ],
      "source": [
        "a=['M', 'L', 'G' , 'C']\n",
        "b=[]\n",
        "print(\"Before Process\")\n",
        "print(\"Element in the Left Side Bank \", a)\n",
        "print(\"Element in the Right Side Bank \", b )\n",
        "while True:\n",
        "  print(a[1],\" \", a[2],\" \", a[3], \" Select any one from the list\")\n",
        "  i=input(\"Enter the item :\")\n",
        "  i=i.upper()\n",
        "  if a[1]==i and a[2]=='G' and a[3]=='C':\n",
        "    print(\"Goat will eat cabbage :\")\n",
        "    break\n",
        "  elif a[2]==i and a[3]!='C':\n",
        "    b.append(a[2])\n",
        "    if len(b)==2 and b[0]=='G':\n",
        "      a[2]=b[0]\n",
        "      b[0]=b[1]\n",
        "      b.pop()\n",
        "  elif a[1]==i and a[2]=='G':\n",
        "   b.append(a[1])\n",
        "   a[1]=a[2]\n",
        "   a[2]=''\n",
        "  elif a[1]==i and a[2]=='C':\n",
        "   b.append(a[1])\n",
        "   a[1]=a[2]\n",
        "   a[2]=''\n",
        "   if len(b)==2 and b[0]=='G':\n",
        "     a[2]=y[0]\n",
        "     b[0]=y[1]\n",
        "     b.pop()\n",
        "  elif a[1]==i and a[2]!='C' and a[2]!='G':\n",
        "   b.append(a[1])\n",
        "   b.append('M')\n",
        "   a[1]=''\n",
        "   a=[]\n",
        "   print(\"Goal is reached \")\n",
        "   break\n",
        "  if a[2]==i  and a[3]=='C':\n",
        "   b.append(x[2])\n",
        "   a[2]=a[3]\n",
        "   abs[3]=''\n",
        "  if a[3]==i:\n",
        "   print(\"Lion will eat Goat \")\n",
        "   break\n",
        "print(\"After Process\")\n",
        "print(\"Element in the Left Side Bank \", a)\n",
        "print(\"Element in the Right Side Bank \", b)\n"
      ]
    }
  ]
}